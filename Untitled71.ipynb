{
 "cells": [
  {
   "cell_type": "code",
   "execution_count": 11,
   "id": "33c4bbed",
   "metadata": {},
   "outputs": [
    {
     "data": {
      "text/plain": [
       "[2, 1, 1, 0]"
      ]
     },
     "execution_count": 11,
     "metadata": {},
     "output_type": "execute_result"
    }
   ],
   "source": [
    "import bisect\n",
    "def countSmaller(nums):\n",
    "    res = [] \n",
    "    sortedArr = [] \n",
    "    for num in nums[::-1]: \n",
    "        i = bisect.bisect_left(sortedArr, num) \n",
    "        res.append(i) \n",
    "        sortedArr.insert(i, num) \n",
    "    return res[::-1]\n",
    "\n",
    "nums=[5,2,6,1]\n",
    "countSmaller(nums)"
   ]
  },
  {
   "cell_type": "code",
   "execution_count": 14,
   "id": "9643d786",
   "metadata": {},
   "outputs": [
    {
     "data": {
      "text/plain": [
       "[1, 2, 3, 5]"
      ]
     },
     "execution_count": 14,
     "metadata": {},
     "output_type": "execute_result"
    }
   ],
   "source": [
    "def sort_array(nums):\n",
    "    def mergesort(arr = nums):\n",
    "        if len(arr) - 1:\n",
    "            mid = len(arr) // 2\n",
    "            left = arr[:mid]\n",
    "            right = arr[mid:]\n",
    "            mergesort(left)\n",
    "            mergesort(right)\n",
    "\n",
    "            i = j = k = 0\n",
    "\n",
    "            while i < len(left) and j < len(right):\n",
    "                if left[i] <= right[j]:\n",
    "                    arr[k] = left[i]\n",
    "                    i += 1\n",
    "                else:\n",
    "                    arr[k] = right[j]\n",
    "                    j += 1\n",
    "                k += 1\n",
    "\n",
    "            while i < len(left):\n",
    "                arr[k] = left[i]\n",
    "                i += 1\n",
    "                k += 1\n",
    "\n",
    "            while j < len(right):\n",
    "                arr[k] = right[j]\n",
    "                j += 1\n",
    "                k += 1\n",
    "    mergesort()\n",
    "    return nums\n",
    "\n",
    "nums = [5,2,3,1]\n",
    "sort_array(nums)"
   ]
  },
  {
   "cell_type": "code",
   "execution_count": 15,
   "id": "6cf5088a",
   "metadata": {},
   "outputs": [
    {
     "data": {
      "text/plain": [
       "[1, 2, 4, 3, 5, 0, 0, 0]"
      ]
     },
     "execution_count": 15,
     "metadata": {},
     "output_type": "execute_result"
    }
   ],
   "source": [
    "def moveZeros(nums):\n",
    "    x = 0\n",
    "    for i in range(len(nums)):\n",
    "        if nums[i] != 0 and nums[x] == 0:\n",
    "            nums[x], nums[i] = nums[i], nums[x]\n",
    "        if nums[x] != 0:\n",
    "            x += 1\n",
    "    return nums\n",
    "\n",
    "nums=[1,2,0,4,3,0,5,0]\n",
    "moveZeros(nums)"
   ]
  },
  {
   "cell_type": "code",
   "execution_count": 18,
   "id": "fa132968",
   "metadata": {},
   "outputs": [
    {
     "name": "stdout",
     "output_type": "stream",
     "text": [
      "-1 2 -4 4 1 3 \n",
      "\n"
     ]
    }
   ],
   "source": [
    "def rearrange(arr, n):\n",
    "    i = 0\n",
    "    j = n - 1\n",
    "    while (i < j):\n",
    "        while (i <= n - 1 and arr[i] > 0):\n",
    "            i += 1\n",
    "        while (j >= 0 and arr[j] < 0):\n",
    "            j -= 1\n",
    "        if (i < j):\n",
    "            temp = arr[i]\n",
    "            arr[i] = arr[j]\n",
    "            arr[j] = temp\n",
    " \n",
    "    if (i == 0 or i == n):\n",
    "        return 0\n",
    "    k = 0\n",
    "    while (k < n and i < n):\n",
    "        temp = arr[k]\n",
    "        arr[k] = arr[i]\n",
    "        arr[i] = temp\n",
    "        i = i + 1\n",
    "        k = k + 2\n",
    "def printArray(arr, n):\n",
    "    for i in range(n):\n",
    "        print(arr[i], end=\" \")\n",
    "    print(\"\\n\")\n",
    "arr = [1,2,3,-4,-1,4]\n",
    "n = len(arr)\n",
    "rearrange(arr, n)\n",
    "printArray(arr, n)"
   ]
  },
  {
   "cell_type": "code",
   "execution_count": 19,
   "id": "31f80f6c",
   "metadata": {},
   "outputs": [
    {
     "name": "stdout",
     "output_type": "stream",
     "text": [
      "1 2 3 4 4 5 6 8 "
     ]
    }
   ],
   "source": [
    "def mergeArrays(arr1, arr2, n1, n2):\n",
    "    arr3 = [None] * (n1 + n2)\n",
    "    i = 0\n",
    "    j = 0\n",
    "    k = 0\n",
    "    while i < n1 and j < n2:\n",
    "        if arr1[i] < arr2[j]:\n",
    "            arr3[k] = arr1[i]\n",
    "            k = k + 1\n",
    "            i = i + 1\n",
    "        else:\n",
    "            arr3[k] = arr2[j]\n",
    "            k = k + 1\n",
    "            j = j + 1\n",
    "    while i < n1:\n",
    "        arr3[k] = arr1[i];\n",
    "        k = k + 1\n",
    "        i = i + 1\n",
    "    while j < n2:\n",
    "        arr3[k] = arr2[j];\n",
    "        k = k + 1\n",
    "        j = j + 1\n",
    "    for i in range(n1 + n2):\n",
    "        print(str(arr3[i]), end = \" \")\n",
    "arr1 = [1, 3, 4, 5]\n",
    "n1 = len(arr1)\n",
    " \n",
    "arr2 = [2, 4, 6, 8]\n",
    "n2 = len(arr2)\n",
    "mergeArrays(arr1, arr2, n1, n2)"
   ]
  },
  {
   "cell_type": "code",
   "execution_count": 22,
   "id": "d8ad6edb",
   "metadata": {},
   "outputs": [
    {
     "data": {
      "text/plain": [
       "[9, 4]"
      ]
     },
     "execution_count": 22,
     "metadata": {},
     "output_type": "execute_result"
    }
   ],
   "source": [
    "def intersection(nums1,nums2):    \n",
    "    l=[]\n",
    "    for num in nums1:\n",
    "        if num in nums2:\n",
    "            l.append(num)\n",
    "    return list(set(l))\n",
    "\n",
    "nums1 = [4,9,5]\n",
    "nums2 = [9,4,9,8,4]\n",
    "intersection(nums1,nums2)"
   ]
  },
  {
   "cell_type": "code",
   "execution_count": 24,
   "id": "c7c09d33",
   "metadata": {},
   "outputs": [
    {
     "data": {
      "text/plain": [
       "[2, 2]"
      ]
     },
     "execution_count": 24,
     "metadata": {},
     "output_type": "execute_result"
    }
   ],
   "source": [
    "def intersection(nums1,nums2):    \n",
    "    l=[]\n",
    "    for num in nums1:\n",
    "        if num in nums2:\n",
    "            l.append(num)\n",
    "    return (l)\n",
    "\n",
    "nums1 = [1,2,2,1]\n",
    "nums2 = [2,2]\n",
    "intersection(nums1,nums2)"
   ]
  }
 ],
 "metadata": {
  "kernelspec": {
   "display_name": "Python 3 (ipykernel)",
   "language": "python",
   "name": "python3"
  },
  "language_info": {
   "codemirror_mode": {
    "name": "ipython",
    "version": 3
   },
   "file_extension": ".py",
   "mimetype": "text/x-python",
   "name": "python",
   "nbconvert_exporter": "python",
   "pygments_lexer": "ipython3",
   "version": "3.9.13"
  }
 },
 "nbformat": 4,
 "nbformat_minor": 5
}
